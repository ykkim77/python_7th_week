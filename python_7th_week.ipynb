{
  "nbformat": 4,
  "nbformat_minor": 0,
  "metadata": {
    "colab": {
      "provenance": [],
      "include_colab_link": true
    },
    "kernelspec": {
      "name": "python3",
      "display_name": "Python 3"
    },
    "language_info": {
      "name": "python"
    }
  },
  "cells": [
    {
      "cell_type": "markdown",
      "metadata": {
        "id": "view-in-github",
        "colab_type": "text"
      },
      "source": [
        "<a href=\"https://colab.research.google.com/github/ykkim77/python_7th_week/blob/main/python_7th_week.ipynb\" target=\"_parent\"><img src=\"https://colab.research.google.com/assets/colab-badge.svg\" alt=\"Open In Colab\"/></a>"
      ]
    },
    {
      "cell_type": "markdown",
      "metadata": {
        "id": "EUouutuxCIXF"
      },
      "source": [
        "# while 문"
      ]
    },
    {
      "cell_type": "code",
      "metadata": {
        "id": "Asv48xZMBKJg"
      },
      "source": [
        "treeHit = 0\n",
        "while treeHit < 10:\n",
        "    treeHit += 1\n",
        "    print(\"나무를 %d 번 찍었습니다.\"% treeHit)\n",
        "    if treeHit == 10:\n",
        "        print(\"나무 넘어 갑니다.\")"
      ],
      "execution_count": null,
      "outputs": []
    },
    {
      "cell_type": "markdown",
      "metadata": {
        "id": "-piWXeZDD0sg"
      },
      "source": [
        "**break 사용하기**"
      ]
    },
    {
      "cell_type": "code",
      "metadata": {
        "id": "hLrMHTYMCkFS"
      },
      "source": [
        "coffee = 10\n",
        "money = 300\n",
        "while money:\n",
        "    print(\"돈을 받았으니 커피를 줍니다.\")\n",
        "    coffee = coffee  -1\n",
        "    print(\"남은 커피양은 %d개입니다.\" % coffee)\n",
        "    if coffee == 0:\n",
        "        print(\"커피가 다 떨어졌습니다. 판매를 중지합니다\")\n",
        "        break"
      ],
      "execution_count": null,
      "outputs": []
    },
    {
      "cell_type": "markdown",
      "metadata": {
        "id": "FnjiVA29D7uW"
      },
      "source": [
        "**continue 사용하기**"
      ]
    },
    {
      "cell_type": "code",
      "metadata": {
        "id": "J984LiPlDwep"
      },
      "source": [
        "a= 0\n",
        "while a <10:\n",
        "    a = a+1\n",
        "    if a % 2 ==0:\n",
        "        continue\n",
        "    print(a)\n"
      ],
      "execution_count": null,
      "outputs": []
    },
    {
      "cell_type": "markdown",
      "metadata": {
        "id": "aEnWvgt8EQoh"
      },
      "source": [
        "# for 문"
      ]
    },
    {
      "cell_type": "markdown",
      "metadata": {
        "id": "8WUKiA0GGWQE"
      },
      "source": [
        "**리스트를 이용한 for 반복문**"
      ]
    },
    {
      "cell_type": "code",
      "metadata": {
        "id": "rPa6nVaOExeJ"
      },
      "source": [
        "test_list = ['one', 'two', 'three']\n",
        "for i in test_list:\n",
        "    print(i)"
      ],
      "execution_count": null,
      "outputs": []
    },
    {
      "cell_type": "markdown",
      "metadata": {
        "id": "cZ43Euv-Gcbm"
      },
      "source": [
        "**range() 함수의 사용**"
      ]
    },
    {
      "cell_type": "code",
      "metadata": {
        "id": "72xbyMwVFKMk"
      },
      "source": [
        "a = range(10)\n",
        "a"
      ],
      "execution_count": null,
      "outputs": []
    },
    {
      "cell_type": "code",
      "metadata": {
        "id": "byrGEBqzFP5N"
      },
      "source": [
        "a = range(1,11)\n",
        "a"
      ],
      "execution_count": null,
      "outputs": []
    },
    {
      "cell_type": "markdown",
      "metadata": {
        "id": "LFYHBQHiGgCd"
      },
      "source": [
        "**튜플을 이용한 for 문**"
      ]
    },
    {
      "cell_type": "code",
      "metadata": {
        "id": "4CIzmAedFYNM"
      },
      "source": [
        "a = (1,2,3)\n",
        "\n",
        "for i in a:\n",
        "    print(i)"
      ],
      "execution_count": null,
      "outputs": []
    },
    {
      "cell_type": "markdown",
      "metadata": {
        "id": "vPlR918CGqnc"
      },
      "source": [
        "**문자열을 이용한 for 문**"
      ]
    },
    {
      "cell_type": "code",
      "metadata": {
        "id": "ng-21OPMGqF8"
      },
      "source": [
        "word = \"I love python\"\n",
        "\n",
        "for i in word:\n",
        "    print(i)"
      ],
      "execution_count": null,
      "outputs": []
    },
    {
      "cell_type": "markdown",
      "metadata": {
        "id": "AIK5ykDVJehs"
      },
      "source": [
        "**이중 for 문**"
      ]
    },
    {
      "cell_type": "code",
      "metadata": {
        "id": "fVezxVIYJgq_"
      },
      "source": [
        "for i in range(2,10):        # ①번 for문\n",
        "    for j in range(1, 10):   # ②번 for문\n",
        "        print(i*j, end=\" \")\n",
        "    print('')"
      ],
      "execution_count": null,
      "outputs": []
    },
    {
      "cell_type": "markdown",
      "metadata": {
        "id": "1gueP1Z7RYOZ"
      },
      "source": [
        "**내포 리스트**"
      ]
    },
    {
      "cell_type": "code",
      "metadata": {
        "id": "QHPwbnkHRXdj"
      },
      "source": [
        "a = [1, 2, 3, 4]\n",
        "result = [num * 3 for num in a if num % 2 == 0]\n",
        "print(result)"
      ],
      "execution_count": null,
      "outputs": []
    },
    {
      "cell_type": "markdown",
      "source": [
        "**구구단의 모든 결과를 리스트로 담는 리스트 내포 예제**"
      ],
      "metadata": {
        "id": "wFPO1G0Uasjw"
      }
    },
    {
      "cell_type": "code",
      "source": [
        "result = [x*y for x in range(2,10) for y in range(1,10)]\n",
        "print(result)"
      ],
      "metadata": {
        "id": "INh6WnkCa4ac"
      },
      "execution_count": null,
      "outputs": []
    },
    {
      "cell_type": "markdown",
      "metadata": {
        "id": "NT_EWdZ9H4yt"
      },
      "source": [
        "# 학생들의 성적 처리 하기"
      ]
    },
    {
      "cell_type": "code",
      "metadata": {
        "id": "kiBvcFBVIOZ7"
      },
      "source": [
        "score = [[23,90,20,90],[25,50,20,10],[15,60,5,70],[0,30,20,20],[0,10,0,30],[5,70,5,100]]\n",
        "\n",
        "grade = []\n",
        "\n",
        "for i in score:\n",
        "\n",
        "    sum = 0\n",
        "    for j in i:\n",
        "        sum +=j\n",
        "    grade.append(sum)\n",
        "\n",
        "print(grade)"
      ],
      "execution_count": null,
      "outputs": []
    }
  ]
}