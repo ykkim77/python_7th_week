{
  "nbformat": 4,
  "nbformat_minor": 0,
  "metadata": {
    "colab": {
      "name": "python-7th-week.ipynb",
      "provenance": [],
      "collapsed_sections": [],
      "include_colab_link": true
    },
    "kernelspec": {
      "name": "python3",
      "display_name": "Python 3"
    },
    "language_info": {
      "name": "python"
    }
  },
  "cells": [
    {
      "cell_type": "markdown",
      "metadata": {
        "id": "view-in-github",
        "colab_type": "text"
      },
      "source": [
        "<a href=\"https://colab.research.google.com/github/ykkim77/python_7th_week/blob/main/python_7th_week.ipynb\" target=\"_parent\"><img src=\"https://colab.research.google.com/assets/colab-badge.svg\" alt=\"Open In Colab\"/></a>"
      ]
    },
    {
      "cell_type": "markdown",
      "metadata": {
        "id": "EUouutuxCIXF"
      },
      "source": [
        "# while 문"
      ]
    },
    {
      "cell_type": "code",
      "metadata": {
        "id": "Asv48xZMBKJg",
        "colab": {
          "base_uri": "https://localhost:8080/"
        },
        "outputId": "c1cf9fa2-f87c-4deb-daad-e92e34e4e0eb"
      },
      "source": [
        "treeHit = 0\n",
        "while treeHit < 10:\n",
        "    treeHit = treeHit + 1\n",
        "    print(\"나무를 %d 번 찍었습니다.\"% treeHit)\n",
        "    if treeHit == 10:\n",
        "        print(\"나무 넘어 갑니다.\")"
      ],
      "execution_count": null,
      "outputs": [
        {
          "output_type": "stream",
          "text": [
            "나무를 1 번 찍었습니다.\n",
            "나무를 2 번 찍었습니다.\n",
            "나무를 3 번 찍었습니다.\n",
            "나무를 4 번 찍었습니다.\n",
            "나무를 5 번 찍었습니다.\n",
            "나무를 6 번 찍었습니다.\n",
            "나무를 7 번 찍었습니다.\n",
            "나무를 8 번 찍었습니다.\n",
            "나무를 9 번 찍었습니다.\n",
            "나무를 10 번 찍었습니다.\n",
            "나무 넘어 갑니다.\n"
          ],
          "name": "stdout"
        }
      ]
    },
    {
      "cell_type": "markdown",
      "metadata": {
        "id": "-piWXeZDD0sg"
      },
      "source": [
        "**break 사용하기**"
      ]
    },
    {
      "cell_type": "code",
      "metadata": {
        "id": "hLrMHTYMCkFS",
        "colab": {
          "base_uri": "https://localhost:8080/"
        },
        "outputId": "3825dfc5-944e-49c2-fd5f-8c3ffa5cfd95"
      },
      "source": [
        "coffee = 10\n",
        "money = 300\n",
        "while money:\n",
        "    print(\"돈을 받았으니 커피를 줍니다.\")\n",
        "    coffee = coffee  -1\n",
        "    print(\"남은 커피양은 %d개입니다.\" % coffee)\n",
        "    if coffee == 0:\n",
        "        print(\"커피가 다 떨어졌습니다. 판매를 중지합니다\")\n",
        "        break"
      ],
      "execution_count": null,
      "outputs": [
        {
          "output_type": "stream",
          "text": [
            "돈을 받았으니 커피를 줍니다.\n",
            "남은 커피양은 9개입니다.\n",
            "돈을 받았으니 커피를 줍니다.\n",
            "남은 커피양은 8개입니다.\n",
            "돈을 받았으니 커피를 줍니다.\n",
            "남은 커피양은 7개입니다.\n",
            "돈을 받았으니 커피를 줍니다.\n",
            "남은 커피양은 6개입니다.\n",
            "돈을 받았으니 커피를 줍니다.\n",
            "남은 커피양은 5개입니다.\n",
            "돈을 받았으니 커피를 줍니다.\n",
            "남은 커피양은 4개입니다.\n",
            "돈을 받았으니 커피를 줍니다.\n",
            "남은 커피양은 3개입니다.\n",
            "돈을 받았으니 커피를 줍니다.\n",
            "남은 커피양은 2개입니다.\n",
            "돈을 받았으니 커피를 줍니다.\n",
            "남은 커피양은 1개입니다.\n",
            "돈을 받았으니 커피를 줍니다.\n",
            "남은 커피양은 0개입니다.\n",
            "커피가 다 떨어졌습니다. 판매를 중지합니다\n"
          ],
          "name": "stdout"
        }
      ]
    },
    {
      "cell_type": "markdown",
      "metadata": {
        "id": "FnjiVA29D7uW"
      },
      "source": [
        "**continue 사용하기**"
      ]
    },
    {
      "cell_type": "code",
      "metadata": {
        "id": "J984LiPlDwep",
        "colab": {
          "base_uri": "https://localhost:8080/"
        },
        "outputId": "2bd6d172-3e41-46e3-fc0c-ede41100e487"
      },
      "source": [
        "a= 0\n",
        "while a <10:\n",
        "    a = a+1\n",
        "    if a % 2 ==0:\n",
        "        continue\n",
        "    print(a)\n"
      ],
      "execution_count": null,
      "outputs": [
        {
          "output_type": "stream",
          "text": [
            "1\n",
            "3\n",
            "5\n",
            "7\n",
            "9\n"
          ],
          "name": "stdout"
        }
      ]
    },
    {
      "cell_type": "markdown",
      "metadata": {
        "id": "aEnWvgt8EQoh"
      },
      "source": [
        "# for 문"
      ]
    },
    {
      "cell_type": "markdown",
      "metadata": {
        "id": "8WUKiA0GGWQE"
      },
      "source": [
        "**리스트를 이용한 for 반복문**"
      ]
    },
    {
      "cell_type": "code",
      "metadata": {
        "id": "rPa6nVaOExeJ",
        "colab": {
          "base_uri": "https://localhost:8080/"
        },
        "outputId": "69190d3d-1d15-4125-ef75-5bd2e17de2cb"
      },
      "source": [
        "test_list = ['one', 'two', 'three']\n",
        "for i in test_list:\n",
        "    print(i)"
      ],
      "execution_count": null,
      "outputs": [
        {
          "output_type": "stream",
          "text": [
            "one\n",
            "two\n",
            "three\n"
          ],
          "name": "stdout"
        }
      ]
    },
    {
      "cell_type": "markdown",
      "metadata": {
        "id": "cZ43Euv-Gcbm"
      },
      "source": [
        "**range() 함수의 사용**"
      ]
    },
    {
      "cell_type": "code",
      "metadata": {
        "id": "72xbyMwVFKMk",
        "colab": {
          "base_uri": "https://localhost:8080/"
        },
        "outputId": "96c2ce6d-2d86-4d75-e35e-6c2ff52a794c"
      },
      "source": [
        "a = range(10)\n",
        "a"
      ],
      "execution_count": null,
      "outputs": [
        {
          "output_type": "execute_result",
          "data": {
            "text/plain": [
              "range(0, 10)"
            ]
          },
          "metadata": {
            "tags": []
          },
          "execution_count": 5
        }
      ]
    },
    {
      "cell_type": "code",
      "metadata": {
        "id": "byrGEBqzFP5N",
        "colab": {
          "base_uri": "https://localhost:8080/"
        },
        "outputId": "10a5db6d-ae34-43d3-8b67-d3432ff360dc"
      },
      "source": [
        "a = range(1,11)\n",
        "a"
      ],
      "execution_count": null,
      "outputs": [
        {
          "output_type": "execute_result",
          "data": {
            "text/plain": [
              "range(1, 11)"
            ]
          },
          "metadata": {
            "tags": []
          },
          "execution_count": 6
        }
      ]
    },
    {
      "cell_type": "markdown",
      "metadata": {
        "id": "LFYHBQHiGgCd"
      },
      "source": [
        "**튜플을 이용한 for 문**"
      ]
    },
    {
      "cell_type": "code",
      "metadata": {
        "id": "4CIzmAedFYNM",
        "colab": {
          "base_uri": "https://localhost:8080/"
        },
        "outputId": "d850c499-24e6-4c3c-846b-bda263c67ea9"
      },
      "source": [
        "a = (1,2,3)\n",
        "\n",
        "for i in a:\n",
        "    print(i)"
      ],
      "execution_count": null,
      "outputs": [
        {
          "output_type": "stream",
          "text": [
            "1\n",
            "2\n",
            "3\n"
          ],
          "name": "stdout"
        }
      ]
    },
    {
      "cell_type": "markdown",
      "metadata": {
        "id": "vPlR918CGqnc"
      },
      "source": [
        "**문자열을 이용한 for 문**"
      ]
    },
    {
      "cell_type": "code",
      "metadata": {
        "id": "ng-21OPMGqF8",
        "colab": {
          "base_uri": "https://localhost:8080/"
        },
        "outputId": "0403d902-2473-4ac6-f8fa-6ef14f565fb0"
      },
      "source": [
        "word = \"I love python\"\n",
        "\n",
        "for i in word:\n",
        "    print(i)"
      ],
      "execution_count": null,
      "outputs": [
        {
          "output_type": "stream",
          "text": [
            "I\n",
            " \n",
            "l\n",
            "o\n",
            "v\n",
            "e\n",
            " \n",
            "p\n",
            "y\n",
            "t\n",
            "h\n",
            "o\n",
            "n\n"
          ],
          "name": "stdout"
        }
      ]
    },
    {
      "cell_type": "markdown",
      "metadata": {
        "id": "AIK5ykDVJehs"
      },
      "source": [
        "**이중 for 문**"
      ]
    },
    {
      "cell_type": "code",
      "metadata": {
        "id": "fVezxVIYJgq_",
        "colab": {
          "base_uri": "https://localhost:8080/"
        },
        "outputId": "0b4c77ff-3109-4a03-e9b9-ee9251083075"
      },
      "source": [
        "for i in range(2,10):        # ①번 for문\n",
        "    for j in range(1, 10):   # ②번 for문\n",
        "        print(i*j, end=\" \") \n",
        "    print('')"
      ],
      "execution_count": null,
      "outputs": [
        {
          "output_type": "stream",
          "text": [
            "2 4 6 8 10 12 14 16 18 \n",
            "3 6 9 12 15 18 21 24 27 \n",
            "4 8 12 16 20 24 28 32 36 \n",
            "5 10 15 20 25 30 35 40 45 \n",
            "6 12 18 24 30 36 42 48 54 \n",
            "7 14 21 28 35 42 49 56 63 \n",
            "8 16 24 32 40 48 56 64 72 \n",
            "9 18 27 36 45 54 63 72 81 \n"
          ],
          "name": "stdout"
        }
      ]
    },
    {
      "cell_type": "markdown",
      "metadata": {
        "id": "1gueP1Z7RYOZ"
      },
      "source": [
        "**내포 리스트**"
      ]
    },
    {
      "cell_type": "code",
      "metadata": {
        "id": "QHPwbnkHRXdj"
      },
      "source": [
        ""
      ],
      "execution_count": null,
      "outputs": []
    },
    {
      "cell_type": "markdown",
      "metadata": {
        "id": "NT_EWdZ9H4yt"
      },
      "source": [
        "# 학생들의 성적 처리 하기"
      ]
    },
    {
      "cell_type": "code",
      "metadata": {
        "id": "kiBvcFBVIOZ7"
      },
      "source": [
        "score = [[23,90,20,90],[25,50,20,10],[15,60,5,70],[0,30,20,20],[0,10,0,30],[5,70,5,100]]\n",
        "\n",
        "grade = []\n",
        "\n",
        "for i in score:\n",
        "\n",
        "    sum = 0\n",
        "    for j in i:\n",
        "        sum +=j\n",
        "    grade.append(sum)\n",
        "\n",
        "print(grade)"
      ],
      "execution_count": null,
      "outputs": []
    }
  ]
}